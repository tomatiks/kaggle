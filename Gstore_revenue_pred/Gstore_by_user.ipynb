{
 "cells": [
  {
   "cell_type": "markdown",
   "metadata": {
    "_uuid": "e8e112aa5b5db7303e39d3a9cf1702848962c6c2"
   },
   "source": [
    "### Introduction\n",
    "\n",
    "In this kernel I demonstrate how to create predictions at Session level and then use them at User level so that LighGBM can learn how to better sum individual session prediction. \n",
    "\n",
    "It is sort of mini stacker and to avoid leakage, we use GroupKFold strategy.\n"
   ]
  },
  {
   "cell_type": "code",
   "execution_count": 1,
   "metadata": {
    "_cell_guid": "b1076dfc-b9ad-4769-8c92-a6c4dae69d19",
    "_uuid": "8f2839f25d086af736a60e9eeb907d3b93b6e0e5"
   },
   "outputs": [],
   "source": [
    "import os\n"
   ]
  },
  {
   "cell_type": "code",
   "execution_count": 2,
   "metadata": {
    "_cell_guid": "79c7e3d0-c299-4dcb-8224-4455121ee9b0",
    "_uuid": "d629ff2d2480ee46fbb7e2d37f6b5fab8052498a"
   },
   "outputs": [],
   "source": [
    "import pandas as pd\n",
    "import numpy as np\n",
    "import matplotlib.pyplot as plt\n",
    "import seaborn as sns\n",
    "from sklearn.metrics import mean_squared_error\n",
    "import gc\n",
    "import time\n",
    "from pandas.core.common import SettingWithCopyWarning\n",
    "import warnings\n",
    "import lightgbm as lgb\n",
    "from sklearn.model_selection import GroupKFold\n",
    "\n",
    "# I don't like SettingWithCopyWarnings ...\n",
    "warnings.simplefilter('error', SettingWithCopyWarning)\n",
    "gc.enable()\n",
    "%matplotlib inline"
   ]
  },
  {
   "cell_type": "markdown",
   "metadata": {
    "_uuid": "e8c6c0d5d8cf00737b8ae536b0d528b32fac9166"
   },
   "source": [
    "### Get the extracted data"
   ]
  },
  {
   "cell_type": "code",
   "execution_count": 3,
   "metadata": {
    "_uuid": "6fe04db087c3d25b8b4a5873ee6f104e427525f0"
   },
   "outputs": [
    {
     "name": "stderr",
     "output_type": "stream",
     "text": [
      "/home/dmitriy/anaconda3/lib/python3.7/site-packages/IPython/core/interactiveshell.py:3020: DtypeWarning: Columns (49) have mixed types. Specify dtype option on import or set low_memory=False.\n",
      "  interactivity=interactivity, compiler=compiler, result=result)\n"
     ]
    },
    {
     "data": {
      "text/plain": [
       "((903653, 55), (804684, 53))"
      ]
     },
     "execution_count": 3,
     "metadata": {},
     "output_type": "execute_result"
    }
   ],
   "source": [
    "train = pd.read_csv('train-flattened.csv', \n",
    "                    dtype={'date': str, 'fullVisitorId': str, 'sessionId':str}, nrows=None)\n",
    "test = pd.read_csv('test-flattened.csv', \n",
    "                   dtype={'date': str, 'fullVisitorId': str, 'sessionId':str}, nrows=None)\n",
    "train.shape, test.shape"
   ]
  },
  {
   "cell_type": "markdown",
   "metadata": {
    "_uuid": "b64b336b70ccb5478d33f9e042eeeabee549c919"
   },
   "source": [
    "### Define folding strategy"
   ]
  },
  {
   "cell_type": "code",
   "execution_count": 5,
   "metadata": {
    "_uuid": "cd54722ebf9ae8b68eddb2116c0559625e7d6a48"
   },
   "outputs": [],
   "source": [
    "def get_folds(df=None, n_splits=5):\n",
    "    \"\"\"Returns dataframe indices corresponding to Visitors Group KFold\"\"\"\n",
    "    # Get sorted unique visitors\n",
    "    unique_vis = np.array(sorted(df['fullVisitorId'].unique()))\n",
    "\n",
    "    # Get folds\n",
    "    folds = GroupKFold(n_splits=n_splits)\n",
    "    fold_ids = []\n",
    "    ids = np.arange(df.shape[0])\n",
    "    for trn_vis, val_vis in folds.split(X=unique_vis, y=unique_vis, groups=unique_vis):\n",
    "        fold_ids.append(\n",
    "            [\n",
    "                ids[df['fullVisitorId'].isin(unique_vis[trn_vis])],\n",
    "                ids[df['fullVisitorId'].isin(unique_vis[val_vis])]\n",
    "            ]\n",
    "        )\n",
    "\n",
    "    return fold_ids"
   ]
  },
  {
   "cell_type": "markdown",
   "metadata": {
    "_uuid": "18b2fb7729077132ef249956a1bbb072baee17db"
   },
   "source": [
    "### Get session target"
   ]
  },
  {
   "cell_type": "code",
   "execution_count": 6,
   "metadata": {
    "_uuid": "c539c76d9a5305066ea084ca32016132da41b35b"
   },
   "outputs": [],
   "source": [
    "y_reg = train['totals.transactionRevenue'].fillna(0)\n",
    "del train['totals.transactionRevenue']\n",
    "\n",
    "if 'totals.transactionRevenue' in test.columns:\n",
    "    del test['totals.transactionRevenue']"
   ]
  },
  {
   "cell_type": "markdown",
   "metadata": {
    "_uuid": "1d9af86b1cf94e192d704bfd419eed4490e1debe"
   },
   "source": [
    "### Add date features\n",
    "\n",
    "Only add the one I think can ganeralize"
   ]
  },
  {
   "cell_type": "code",
   "execution_count": 6,
   "metadata": {
    "_uuid": "fbf93fda18940aa29105fa2d66f3514311d4fc68"
   },
   "outputs": [
    {
     "data": {
      "text/plain": [
       "Index(['channelGrouping', 'date', 'fullVisitorId', 'sessionId',\n",
       "       'socialEngagementType', 'visitId', 'visitNumber', 'visitStartTime',\n",
       "       'device.browser', 'device.browserSize', 'device.browserVersion',\n",
       "       'device.deviceCategory', 'device.flashVersion', 'device.isMobile',\n",
       "       'device.language', 'device.mobileDeviceBranding',\n",
       "       'device.mobileDeviceInfo', 'device.mobileDeviceMarketingName',\n",
       "       'device.mobileDeviceModel', 'device.mobileInputSelector',\n",
       "       'device.operatingSystem', 'device.operatingSystemVersion',\n",
       "       'device.screenColors', 'device.screenResolution', 'geoNetwork.city',\n",
       "       'geoNetwork.cityId', 'geoNetwork.continent', 'geoNetwork.country',\n",
       "       'geoNetwork.latitude', 'geoNetwork.longitude', 'geoNetwork.metro',\n",
       "       'geoNetwork.networkDomain', 'geoNetwork.networkLocation',\n",
       "       'geoNetwork.region', 'geoNetwork.subContinent', 'totals.bounces',\n",
       "       'totals.hits', 'totals.newVisits', 'totals.pageviews', 'totals.visits',\n",
       "       'trafficSource.adContent',\n",
       "       'trafficSource.adwordsClickInfo.adNetworkType',\n",
       "       'trafficSource.adwordsClickInfo.criteriaParameters',\n",
       "       'trafficSource.adwordsClickInfo.gclId',\n",
       "       'trafficSource.adwordsClickInfo.isVideoAd',\n",
       "       'trafficSource.adwordsClickInfo.page',\n",
       "       'trafficSource.adwordsClickInfo.slot', 'trafficSource.campaign',\n",
       "       'trafficSource.campaignCode', 'trafficSource.isTrueDirect',\n",
       "       'trafficSource.keyword', 'trafficSource.medium',\n",
       "       'trafficSource.referralPath', 'trafficSource.source'],\n",
       "      dtype='object')"
      ]
     },
     "execution_count": 6,
     "metadata": {},
     "output_type": "execute_result"
    }
   ],
   "source": [
    "train.columns"
   ]
  },
  {
   "cell_type": "code",
   "execution_count": 7,
   "metadata": {
    "_uuid": "b04391e12fdca0199ff22ab7febd9b0b53d6cbb3"
   },
   "outputs": [],
   "source": [
    "for df in [train, test]:\n",
    "    df['date'] = pd.to_datetime(df['visitStartTime'], unit='s')\n",
    "    df['sess_date_dow'] = df['date'].dt.dayofweek\n",
    "    df['sess_date_hours'] = df['date'].dt.hour\n",
    "    df['sess_date_dom'] = df['date'].dt.day"
   ]
  },
  {
   "cell_type": "markdown",
   "metadata": {
    "_uuid": "59e7c9bcf14d3f430489d15d22757b91dd9d5ad1"
   },
   "source": [
    "### Create features list"
   ]
  },
  {
   "cell_type": "code",
   "execution_count": 8,
   "metadata": {
    "_uuid": "e09ff3124721ad70eab65b924093b5fd0c12f9c6"
   },
   "outputs": [],
   "source": [
    "excluded_features = [\n",
    "    'date', 'fullVisitorId', 'sessionId', 'totals.transactionRevenue', \n",
    "    'visitId', 'visitStartTime','trafficSource.campaignCode'\n",
    "]\n",
    "\n",
    "categorical_features = [\n",
    "    _f for _f in train.columns\n",
    "    if (_f not in excluded_features) & (train[_f].dtype == 'object')\n",
    "]"
   ]
  },
  {
   "cell_type": "code",
   "execution_count": 9,
   "metadata": {},
   "outputs": [
    {
     "data": {
      "text/plain": [
       "['channelGrouping',\n",
       " 'socialEngagementType',\n",
       " 'device.browser',\n",
       " 'device.browserSize',\n",
       " 'device.browserVersion',\n",
       " 'device.deviceCategory',\n",
       " 'device.flashVersion',\n",
       " 'device.language',\n",
       " 'device.mobileDeviceBranding',\n",
       " 'device.mobileDeviceInfo',\n",
       " 'device.mobileDeviceMarketingName',\n",
       " 'device.mobileDeviceModel',\n",
       " 'device.mobileInputSelector',\n",
       " 'device.operatingSystem',\n",
       " 'device.operatingSystemVersion',\n",
       " 'device.screenColors',\n",
       " 'device.screenResolution',\n",
       " 'geoNetwork.city',\n",
       " 'geoNetwork.cityId',\n",
       " 'geoNetwork.continent',\n",
       " 'geoNetwork.country',\n",
       " 'geoNetwork.latitude',\n",
       " 'geoNetwork.longitude',\n",
       " 'geoNetwork.metro',\n",
       " 'geoNetwork.networkDomain',\n",
       " 'geoNetwork.networkLocation',\n",
       " 'geoNetwork.region',\n",
       " 'geoNetwork.subContinent',\n",
       " 'trafficSource.adContent',\n",
       " 'trafficSource.adwordsClickInfo.adNetworkType',\n",
       " 'trafficSource.adwordsClickInfo.criteriaParameters',\n",
       " 'trafficSource.adwordsClickInfo.gclId',\n",
       " 'trafficSource.adwordsClickInfo.isVideoAd',\n",
       " 'trafficSource.adwordsClickInfo.slot',\n",
       " 'trafficSource.campaign',\n",
       " 'trafficSource.isTrueDirect',\n",
       " 'trafficSource.keyword',\n",
       " 'trafficSource.medium',\n",
       " 'trafficSource.referralPath',\n",
       " 'trafficSource.source']"
      ]
     },
     "execution_count": 9,
     "metadata": {},
     "output_type": "execute_result"
    }
   ],
   "source": [
    "categorical_features"
   ]
  },
  {
   "cell_type": "markdown",
   "metadata": {
    "_uuid": "2d207a80600a44e758b6011f24c5808f9b164866"
   },
   "source": [
    "### Factorize categoricals"
   ]
  },
  {
   "cell_type": "code",
   "execution_count": 9,
   "metadata": {
    "_uuid": "4f00eb6b6166cd5be25ebad22aa9dc91a8a3ded2"
   },
   "outputs": [],
   "source": [
    "for f in categorical_features:\n",
    "    train[f], indexer = pd.factorize(train[f])\n",
    "    test[f] = indexer.get_indexer(test[f])"
   ]
  },
  {
   "cell_type": "markdown",
   "metadata": {
    "_uuid": "d7517b473bd776f51925ab0243cf1e3b6592ce0e"
   },
   "source": [
    "### Predict revenues at session level"
   ]
  },
  {
   "cell_type": "code",
   "execution_count": 10,
   "metadata": {
    "_uuid": "e9c155197545dc43ec2f3e23e25955532f7ad25d"
   },
   "outputs": [
    {
     "name": "stdout",
     "output_type": "stream",
     "text": [
      "['channelGrouping', 'socialEngagementType', 'visitNumber', 'device.browser', 'device.browserSize', 'device.browserVersion', 'device.deviceCategory', 'device.flashVersion', 'device.isMobile', 'device.language', 'device.mobileDeviceBranding', 'device.mobileDeviceInfo', 'device.mobileDeviceMarketingName', 'device.mobileDeviceModel', 'device.mobileInputSelector', 'device.operatingSystem', 'device.operatingSystemVersion', 'device.screenColors', 'device.screenResolution', 'geoNetwork.city', 'geoNetwork.cityId', 'geoNetwork.continent', 'geoNetwork.country', 'geoNetwork.latitude', 'geoNetwork.longitude', 'geoNetwork.metro', 'geoNetwork.networkDomain', 'geoNetwork.networkLocation', 'geoNetwork.region', 'geoNetwork.subContinent', 'totals.bounces', 'totals.hits', 'totals.newVisits', 'totals.pageviews', 'totals.visits', 'trafficSource.adContent', 'trafficSource.adwordsClickInfo.adNetworkType', 'trafficSource.adwordsClickInfo.criteriaParameters', 'trafficSource.adwordsClickInfo.gclId', 'trafficSource.adwordsClickInfo.isVideoAd', 'trafficSource.adwordsClickInfo.page', 'trafficSource.adwordsClickInfo.slot', 'trafficSource.campaign', 'trafficSource.isTrueDirect', 'trafficSource.keyword', 'trafficSource.medium', 'trafficSource.referralPath', 'trafficSource.source', 'sess_date_dow', 'sess_date_hours', 'sess_date_dom']\n",
      "Training until validation scores don't improve for 50 rounds.\n",
      "[100]\tvalid_0's rmse: 1.66046\tvalid_0's l2: 2.75714\n",
      "[200]\tvalid_0's rmse: 1.64673\tvalid_0's l2: 2.71172\n",
      "[300]\tvalid_0's rmse: 1.64296\tvalid_0's l2: 2.69931\n",
      "[400]\tvalid_0's rmse: 1.64102\tvalid_0's l2: 2.69295\n",
      "[500]\tvalid_0's rmse: 1.64054\tvalid_0's l2: 2.69137\n",
      "[600]\tvalid_0's rmse: 1.64044\tvalid_0's l2: 2.69106\n",
      "[700]\tvalid_0's rmse: 1.63987\tvalid_0's l2: 2.68917\n",
      "Early stopping, best iteration is:\n",
      "[691]\tvalid_0's rmse: 1.63979\tvalid_0's l2: 2.68893\n",
      "Training until validation scores don't improve for 50 rounds.\n",
      "[100]\tvalid_0's rmse: 1.64024\tvalid_0's l2: 2.69039\n",
      "[200]\tvalid_0's rmse: 1.62854\tvalid_0's l2: 2.65213\n",
      "[300]\tvalid_0's rmse: 1.6252\tvalid_0's l2: 2.64128\n",
      "[400]\tvalid_0's rmse: 1.62233\tvalid_0's l2: 2.63195\n",
      "[500]\tvalid_0's rmse: 1.62213\tvalid_0's l2: 2.63131\n",
      "Early stopping, best iteration is:\n",
      "[470]\tvalid_0's rmse: 1.62199\tvalid_0's l2: 2.63086\n",
      "Training until validation scores don't improve for 50 rounds.\n",
      "[100]\tvalid_0's rmse: 1.6541\tvalid_0's l2: 2.73603\n",
      "[200]\tvalid_0's rmse: 1.63935\tvalid_0's l2: 2.68748\n",
      "[300]\tvalid_0's rmse: 1.6358\tvalid_0's l2: 2.67585\n",
      "[400]\tvalid_0's rmse: 1.63296\tvalid_0's l2: 2.66657\n",
      "[500]\tvalid_0's rmse: 1.63192\tvalid_0's l2: 2.66317\n",
      "[600]\tvalid_0's rmse: 1.63153\tvalid_0's l2: 2.6619\n",
      "[700]\tvalid_0's rmse: 1.63109\tvalid_0's l2: 2.66046\n",
      "Early stopping, best iteration is:\n",
      "[674]\tvalid_0's rmse: 1.63101\tvalid_0's l2: 2.66018\n",
      "Training until validation scores don't improve for 50 rounds.\n",
      "[100]\tvalid_0's rmse: 1.63376\tvalid_0's l2: 2.66918\n",
      "[200]\tvalid_0's rmse: 1.62186\tvalid_0's l2: 2.63043\n",
      "[300]\tvalid_0's rmse: 1.6185\tvalid_0's l2: 2.61953\n",
      "[400]\tvalid_0's rmse: 1.61615\tvalid_0's l2: 2.61194\n",
      "[500]\tvalid_0's rmse: 1.61564\tvalid_0's l2: 2.61028\n",
      "Early stopping, best iteration is:\n",
      "[457]\tvalid_0's rmse: 1.61562\tvalid_0's l2: 2.61022\n",
      "Training until validation scores don't improve for 50 rounds.\n",
      "[100]\tvalid_0's rmse: 1.67339\tvalid_0's l2: 2.80024\n",
      "[200]\tvalid_0's rmse: 1.66095\tvalid_0's l2: 2.75876\n",
      "[300]\tvalid_0's rmse: 1.65741\tvalid_0's l2: 2.74702\n",
      "[400]\tvalid_0's rmse: 1.65413\tvalid_0's l2: 2.73613\n",
      "[500]\tvalid_0's rmse: 1.65384\tvalid_0's l2: 2.73519\n",
      "[600]\tvalid_0's rmse: 1.65322\tvalid_0's l2: 2.73313\n",
      "[700]\tvalid_0's rmse: 1.65314\tvalid_0's l2: 2.73286\n",
      "Early stopping, best iteration is:\n",
      "[681]\tvalid_0's rmse: 1.65286\tvalid_0's l2: 2.73195\n"
     ]
    },
    {
     "data": {
      "text/plain": [
       "1.6317096245618998"
      ]
     },
     "execution_count": 10,
     "metadata": {},
     "output_type": "execute_result"
    }
   ],
   "source": [
    "folds = get_folds(df=train, n_splits=5)\n",
    "\n",
    "train_features = [_f for _f in train.columns if _f not in excluded_features]\n",
    "print(train_features)\n",
    "\n",
    "importances = pd.DataFrame()\n",
    "oof_reg_preds = np.zeros(train.shape[0])\n",
    "sub_reg_preds = np.zeros(test.shape[0])\n",
    "for fold_, (trn_, val_) in enumerate(folds):\n",
    "    trn_x, trn_y = train[train_features].iloc[trn_], y_reg.iloc[trn_]\n",
    "    val_x, val_y = train[train_features].iloc[val_], y_reg.iloc[val_]\n",
    "    \n",
    "    reg = lgb.LGBMRegressor(\n",
    "        num_leaves=31,\n",
    "        learning_rate=0.03,\n",
    "        n_estimators=1000,\n",
    "        subsample=.9,\n",
    "        colsample_bytree=.9,\n",
    "        random_state=1\n",
    "    )\n",
    "    reg.fit(\n",
    "        trn_x, np.log1p(trn_y),\n",
    "        eval_set=[(val_x, np.log1p(val_y))],\n",
    "        early_stopping_rounds=50,\n",
    "        verbose=100,\n",
    "        eval_metric='rmse'\n",
    "    )\n",
    "    imp_df = pd.DataFrame()\n",
    "    imp_df['feature'] = train_features\n",
    "    imp_df['gain'] = reg.booster_.feature_importance(importance_type='gain')\n",
    "    \n",
    "    imp_df['fold'] = fold_ + 1\n",
    "    importances = pd.concat([importances, imp_df], axis=0, sort=False)\n",
    "    \n",
    "    oof_reg_preds[val_] = reg.predict(val_x, num_iteration=reg.best_iteration_)\n",
    "    oof_reg_preds[oof_reg_preds < 0] = 0\n",
    "    _preds = reg.predict(test[train_features], num_iteration=reg.best_iteration_)\n",
    "    _preds[_preds < 0] = 0\n",
    "    sub_reg_preds += np.expm1(_preds) / len(folds)\n",
    "    \n",
    "mean_squared_error(np.log1p(y_reg), oof_reg_preds) ** .5"
   ]
  },
  {
   "cell_type": "code",
   "execution_count": 16,
   "metadata": {
    "collapsed": true
   },
   "outputs": [],
   "source": [
    "#SAve result \n",
    "sess_res_df = pd.DataFrame({\"fullVisitorId\":test['fullVisitorId']})\n",
    "\n",
    "sess_res_df[\"PredictedLogRevenue\"] = sub_reg_preds\n",
    "sess_res_df = sess_res_df.groupby(\"fullVisitorId\")[\"PredictedLogRevenue\"].sum().reset_index()\n",
    "sess_res_df.columns = [\"fullVisitorId\", \"PredictedLogRevenue\"]\n",
    "sess_res_df[\"PredictedLogRevenue\"] = np.log1p(sess_res_df[\"PredictedLogRevenue\"])\n",
    "sess_res_df.to_csv(\"solutions/26_10_oliver_soluton_session_level_with_starttime.csv\", index=False)"
   ]
  },
  {
   "cell_type": "markdown",
   "metadata": {
    "_uuid": "2b23cdb7ee1e35c6deba9edd6ffd87a4cdc72920"
   },
   "source": [
    "### Display feature importances"
   ]
  },
  {
   "cell_type": "code",
   "execution_count": 33,
   "metadata": {},
   "outputs": [
    {
     "data": {
      "text/plain": [
       "False    703060\n",
       "True     200593\n",
       "Name: totals.newVisits, dtype: int64"
      ]
     },
     "execution_count": 33,
     "metadata": {},
     "output_type": "execute_result"
    }
   ],
   "source": [
    "train['totals.newVisits'].isnull().value_counts()"
   ]
  },
  {
   "cell_type": "code",
   "execution_count": 11,
   "metadata": {
    "_uuid": "61d4aacc57c2c7c4d9ce0b1cab7221ca7c69138f"
   },
   "outputs": [
    {
     "data": {
      "text/plain": [
       "<matplotlib.axes._subplots.AxesSubplot at 0x7fda4e20a400>"
      ]
     },
     "execution_count": 11,
     "metadata": {},
     "output_type": "execute_result"
    },
    {
     "data": {
      "image/png": "[encoded data removed]",
      "text/plain": [
       "<Figure size 576x864 with 1 Axes>"
      ]
     },
     "metadata": {
      "needs_background": "light"
     },
     "output_type": "display_data"
    }
   ],
   "source": [
    "import warnings\n",
    "warnings.simplefilter('ignore', FutureWarning)\n",
    "\n",
    "importances['gain_log'] = np.log1p(importances['gain'])\n",
    "mean_gain = importances[['gain', 'feature']].groupby('feature').mean()\n",
    "importances['mean_gain'] = importances['feature'].map(mean_gain['gain'])\n",
    "\n",
    "plt.figure(figsize=(8, 12))\n",
    "sns.barplot(x='gain_log', y='feature', data=importances.sort_values('mean_gain', ascending=False)[:100])"
   ]
  },
  {
   "cell_type": "markdown",
   "metadata": {
    "_uuid": "c64447b5858dc899b6b78d26a4e68a8582995051"
   },
   "source": [
    "### Create user level predictions"
   ]
  },
  {
   "cell_type": "code",
   "execution_count": 13,
   "metadata": {
    "_uuid": "1fc92504b40407cff766489db1966e729d0466df",
    "collapsed": true
   },
   "outputs": [],
   "source": [
    "train['predictions'] = np.expm1(oof_reg_preds)\n",
    "test['predictions'] = sub_reg_preds"
   ]
  },
  {
   "cell_type": "code",
   "execution_count": 14,
   "metadata": {
    "_uuid": "515d3d14483844c93710fb6b6f9e39a6a2a1d384",
    "collapsed": true
   },
   "outputs": [],
   "source": [
    "# Aggregate data at User level\n",
    "trn_data = train[train_features + ['fullVisitorId']].groupby('fullVisitorId').mean()"
   ]
  },
  {
   "cell_type": "code",
   "execution_count": 15,
   "metadata": {
    "_uuid": "31d76001e77e3ee2e10e67a5bc899a83c4cfeb8d"
   },
   "outputs": [
    {
     "name": "stdout",
     "output_type": "stream",
     "text": [
      "Wall time: 33.9 s\n"
     ]
    }
   ],
   "source": [
    "%%time\n",
    "# Create a list of predictions for each Visitor\n",
    "trn_pred_list = train[['fullVisitorId', 'predictions']].groupby('fullVisitorId')\\\n",
    "    .apply(lambda df: list(df.predictions))\\\n",
    "    .apply(lambda x: {'pred_'+str(i): pred for i, pred in enumerate(x)})"
   ]
  },
  {
   "cell_type": "code",
   "execution_count": 16,
   "metadata": {
    "_uuid": "b8f1bac1ef32a58f70aa7bcca79acc7119ddcfb5"
   },
   "outputs": [
    {
     "data": {
      "text/plain": [
       "(714167, 334)"
      ]
     },
     "execution_count": 16,
     "metadata": {},
     "output_type": "execute_result"
    }
   ],
   "source": [
    "# Create a DataFrame with VisitorId as index\n",
    "# trn_pred_list contains dict \n",
    "# so creating a dataframe from it will expand dict values into columns\n",
    "trn_all_predictions = pd.DataFrame(list(trn_pred_list.values), index=trn_data.index)\n",
    "trn_feats = trn_all_predictions.columns\n",
    "trn_all_predictions['t_mean'] = np.log1p(trn_all_predictions[trn_feats].mean(axis=1))\n",
    "trn_all_predictions['t_median'] = np.log1p(trn_all_predictions[trn_feats].median(axis=1))\n",
    "trn_all_predictions['t_sum_log'] = np.log1p(trn_all_predictions[trn_feats]).sum(axis=1)\n",
    "trn_all_predictions['t_sum_act'] = np.log1p(trn_all_predictions[trn_feats].fillna(0).sum(axis=1))\n",
    "trn_all_predictions['t_nb_sess'] = trn_all_predictions[trn_feats].isnull().sum(axis=1)\n",
    "full_data = pd.concat([trn_data, trn_all_predictions], axis=1)\n",
    "del trn_data, trn_all_predictions\n",
    "gc.collect()\n",
    "full_data.shape"
   ]
  },
  {
   "cell_type": "code",
   "execution_count": 17,
   "metadata": {
    "_uuid": "12a86e1f61f819417bede61f3746366b5028222f"
   },
   "outputs": [
    {
     "name": "stdout",
     "output_type": "stream",
     "text": [
      "Wall time: 29.3 s\n"
     ]
    }
   ],
   "source": [
    "%%time\n",
    "sub_pred_list = test[['fullVisitorId', 'predictions']].groupby('fullVisitorId')\\\n",
    "    .apply(lambda df: list(df.predictions))\\\n",
    "    .apply(lambda x: {'pred_'+str(i): pred for i, pred in enumerate(x)})"
   ]
  },
  {
   "cell_type": "code",
   "execution_count": 18,
   "metadata": {
    "_uuid": "611f2a86ffff5947b6863818538577b58f099535"
   },
   "outputs": [
    {
     "data": {
      "text/plain": [
       "(617242, 334)"
      ]
     },
     "execution_count": 18,
     "metadata": {},
     "output_type": "execute_result"
    }
   ],
   "source": [
    "sub_data = test[train_features + ['fullVisitorId']].groupby('fullVisitorId').mean()\n",
    "sub_all_predictions = pd.DataFrame(list(sub_pred_list.values), index=sub_data.index)\n",
    "for f in trn_feats:\n",
    "    if f not in sub_all_predictions.columns:\n",
    "        sub_all_predictions[f] = np.nan\n",
    "sub_all_predictions['t_mean'] = np.log1p(sub_all_predictions[trn_feats].mean(axis=1))\n",
    "sub_all_predictions['t_median'] = np.log1p(sub_all_predictions[trn_feats].median(axis=1))\n",
    "sub_all_predictions['t_sum_log'] = np.log1p(sub_all_predictions[trn_feats]).sum(axis=1)\n",
    "sub_all_predictions['t_sum_act'] = np.log1p(sub_all_predictions[trn_feats].fillna(0).sum(axis=1))\n",
    "sub_all_predictions['t_nb_sess'] = sub_all_predictions[trn_feats].isnull().sum(axis=1)\n",
    "sub_full_data = pd.concat([sub_data, sub_all_predictions], axis=1)\n",
    "del sub_data, sub_all_predictions\n",
    "gc.collect()\n",
    "sub_full_data.shape"
   ]
  },
  {
   "cell_type": "markdown",
   "metadata": {
    "_uuid": "c901512b911c731113c0515e97ce80ddf7b7f118"
   },
   "source": [
    "### Create target at Visitor level"
   ]
  },
  {
   "cell_type": "code",
   "execution_count": 20,
   "metadata": {
    "_uuid": "bf3b05a18f83821d12d05500f8e0e52f0603d6c5",
    "collapsed": true
   },
   "outputs": [],
   "source": [
    "train['target'] = y_reg\n",
    "trn_user_target = train[['fullVisitorId', 'target']].groupby('fullVisitorId').sum()"
   ]
  },
  {
   "cell_type": "markdown",
   "metadata": {
    "_uuid": "73a0db5cfa89fa95a120d6c02b768272f30bca2b"
   },
   "source": [
    "### Train a model at Visitor level"
   ]
  },
  {
   "cell_type": "code",
   "execution_count": 21,
   "metadata": {
    "_uuid": "236f5546dfad2fee431a28534ef57cf8fec249ec"
   },
   "outputs": [
    {
     "name": "stdout",
     "output_type": "stream",
     "text": [
      "Training until validation scores don't improve for 50 rounds.\n",
      "[100]\tTRAIN's rmse: 1.54018\tVALID's rmse: 1.58223\n",
      "[200]\tTRAIN's rmse: 1.50283\tVALID's rmse: 1.58114\n",
      "Early stopping, best iteration is:\n",
      "[152]\tTRAIN's rmse: 1.51745\tVALID's rmse: 1.58022\n",
      "Training until validation scores don't improve for 50 rounds.\n",
      "[100]\tTRAIN's rmse: 1.53849\tVALID's rmse: 1.58761\n",
      "[200]\tTRAIN's rmse: 1.50184\tVALID's rmse: 1.5857\n",
      "Early stopping, best iteration is:\n",
      "[172]\tTRAIN's rmse: 1.50962\tVALID's rmse: 1.58476\n",
      "Training until validation scores don't improve for 50 rounds.\n",
      "[100]\tTRAIN's rmse: 1.53697\tVALID's rmse: 1.59225\n",
      "[200]\tTRAIN's rmse: 1.50004\tVALID's rmse: 1.59033\n",
      "Early stopping, best iteration is:\n",
      "[150]\tTRAIN's rmse: 1.51517\tVALID's rmse: 1.58993\n",
      "Training until validation scores don't improve for 50 rounds.\n",
      "[100]\tTRAIN's rmse: 1.54286\tVALID's rmse: 1.5648\n",
      "[200]\tTRAIN's rmse: 1.5061\tVALID's rmse: 1.56411\n",
      "Early stopping, best iteration is:\n",
      "[172]\tTRAIN's rmse: 1.51353\tVALID's rmse: 1.56369\n",
      "Training until validation scores don't improve for 50 rounds.\n",
      "[100]\tTRAIN's rmse: 1.53527\tVALID's rmse: 1.59946\n",
      "[200]\tTRAIN's rmse: 1.49813\tVALID's rmse: 1.5993\n",
      "Early stopping, best iteration is:\n",
      "[155]\tTRAIN's rmse: 1.51129\tVALID's rmse: 1.59834\n"
     ]
    },
    {
     "data": {
      "text/plain": [
       "1.5834282485223539"
      ]
     },
     "execution_count": 21,
     "metadata": {},
     "output_type": "execute_result"
    }
   ],
   "source": [
    "folds = get_folds(df=full_data[['totals.pageviews']].reset_index(), n_splits=5)\n",
    "\n",
    "oof_preds = np.zeros(full_data.shape[0])\n",
    "sub_preds = np.zeros(sub_full_data.shape[0])\n",
    "vis_importances = pd.DataFrame()\n",
    "\n",
    "for fold_, (trn_, val_) in enumerate(folds):\n",
    "    trn_x, trn_y = full_data.iloc[trn_], trn_user_target['target'].iloc[trn_]\n",
    "    val_x, val_y = full_data.iloc[val_], trn_user_target['target'].iloc[val_]\n",
    "    \n",
    "    reg = lgb.LGBMRegressor(\n",
    "        num_leaves=31,\n",
    "        learning_rate=0.03,\n",
    "        n_estimators=1000,\n",
    "        subsample=.9,\n",
    "        colsample_bytree=.9,\n",
    "        random_state=1\n",
    "    )\n",
    "    reg.fit(\n",
    "        trn_x, np.log1p(trn_y),\n",
    "        eval_set=[(trn_x, np.log1p(trn_y)), (val_x, np.log1p(val_y))],\n",
    "        eval_names=['TRAIN', 'VALID'],\n",
    "        early_stopping_rounds=50,\n",
    "        eval_metric='rmse',\n",
    "        verbose=100\n",
    "    )\n",
    "    \n",
    "    imp_df = pd.DataFrame()\n",
    "    imp_df['feature'] = trn_x.columns\n",
    "    imp_df['gain'] = reg.booster_.feature_importance(importance_type='gain')\n",
    "    \n",
    "    imp_df['fold'] = fold_ + 1\n",
    "    vis_importances = pd.concat([vis_importances, imp_df], axis=0, sort=False)\n",
    "    \n",
    "    oof_preds[val_] = reg.predict(val_x, num_iteration=reg.best_iteration_)\n",
    "    oof_preds[oof_preds < 0] = 0\n",
    "    \n",
    "    # Make sure features are in the same order\n",
    "    _preds = reg.predict(sub_full_data[full_data.columns], num_iteration=reg.best_iteration_)\n",
    "    _preds[_preds < 0] = 0\n",
    "    sub_preds += _preds / len(folds)\n",
    "    \n",
    "mean_squared_error(np.log1p(trn_user_target['target']), oof_preds) ** .5"
   ]
  },
  {
   "cell_type": "markdown",
   "metadata": {
    "_uuid": "8a334da6d1b615108f7d7200a8268bd2aff52d65"
   },
   "source": [
    "### Display feature importances"
   ]
  },
  {
   "cell_type": "code",
   "execution_count": 22,
   "metadata": {
    "_uuid": "c9722bdf108cf510b6f59db3d99e406790c99194"
   },
   "outputs": [
    {
     "data": {
      "text/plain": [
       "<matplotlib.axes._subplots.AxesSubplot at 0x1e0d38958d0>"
      ]
     },
     "execution_count": 22,
     "metadata": {},
     "output_type": "execute_result"
    },
    {
     "data": {
      "image/png": "[encoded data removed]",
      "text/plain": [
       "<matplotlib.figure.Figure at 0x1e091cb3048>"
      ]
     },
     "metadata": {},
     "output_type": "display_data"
    }
   ],
   "source": [
    "vis_importances['gain_log'] = np.log1p(vis_importances['gain'])\n",
    "mean_gain = vis_importances[['gain', 'feature']].groupby('feature').mean()\n",
    "vis_importances['mean_gain'] = vis_importances['feature'].map(mean_gain['gain'])\n",
    "\n",
    "plt.figure(figsize=(8, 25))\n",
    "sns.barplot(x='gain_log', y='feature', data=vis_importances.sort_values('mean_gain', ascending=False).iloc[:300])"
   ]
  },
  {
   "cell_type": "markdown",
   "metadata": {
    "_uuid": "dbd81ac5df63f2c94c00e678b00dd7993d06df6f"
   },
   "source": [
    "### Save predictions"
   ]
  },
  {
   "cell_type": "code",
   "execution_count": 23,
   "metadata": {
    "_uuid": "feb757b51ac10132118cc0db22f7adda70f0913f",
    "collapsed": true
   },
   "outputs": [],
   "source": [
    "sub_full_data['PredictedLogRevenue'] = sub_preds\n",
    "sub_full_data[['PredictedLogRevenue']].to_csv('solutions/30_10_oliver_visitor_full.csv', index=True)"
   ]
  },
  {
   "cell_type": "code",
   "execution_count": null,
   "metadata": {
    "collapsed": true
   },
   "outputs": [],
   "source": []
  }
 ],
 "metadata": {
  "kernelspec": {
   "display_name": "Python 3",
   "language": "python",
   "name": "python3"
  },
  "language_info": {
   "codemirror_mode": {
    "name": "ipython",
    "version": 3
   },
   "file_extension": ".py",
   "mimetype": "text/x-python",
   "name": "python",
   "nbconvert_exporter": "python",
   "pygments_lexer": "ipython3",
   "version": "3.7.1"
  }
 },
 "nbformat": 4,
 "nbformat_minor": 1
}
