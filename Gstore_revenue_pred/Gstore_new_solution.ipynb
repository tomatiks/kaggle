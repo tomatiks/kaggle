{
 "cells": [
  {
   "cell_type": "code",
   "execution_count": 1,
   "metadata": {},
   "outputs": [
    {
     "data": {
      "text/html": [
       "<script>requirejs.config({paths: { 'plotly': ['https://cdn.plot.ly/plotly-latest.min']},});if(!window.Plotly) {{require(['plotly'],function(plotly) {window.Plotly=plotly;});}}</script>"
      ],
      "text/vnd.plotly.v1+html": [
       "<script>requirejs.config({paths: { 'plotly': ['https://cdn.plot.ly/plotly-latest.min']},});if(!window.Plotly) {{require(['plotly'],function(plotly) {window.Plotly=plotly;});}}</script>"
      ]
     },
     "metadata": {},
     "output_type": "display_data"
    }
   ],
   "source": [
    "import os\n",
    "import json\n",
    "import numpy as np\n",
    "import pandas as pd\n",
    "from pandas.io.json import json_normalize\n",
    "\n",
    "import datetime\n",
    "\n",
    "import seaborn as sns\n",
    "color = sns.color_palette()\n",
    "from plotly import tools\n",
    "import plotly.offline as py\n",
    "py.init_notebook_mode(connected=True)\n",
    "import plotly.graph_objs as go\n",
    "\n",
    "from collections import Counter\n",
    "\n",
    "from sklearn.model_selection import GroupKFold\n",
    "from sklearn.model_selection import train_test_split,TimeSeriesSplit\n",
    "from sklearn.metrics import accuracy_score\n",
    "from sklearn.preprocessing import OneHotEncoder,LabelBinarizer,LabelEncoder,PolynomialFeatures,MinMaxScaler,minmax_scale\n",
    "\n",
    "from sklearn.metrics import accuracy_score\n",
    "from sklearn.model_selection import cross_val_score, StratifiedKFold, GridSearchCV\n",
    "from sklearn.ensemble import RandomForestClassifier\n",
    "from catboost import CatBoostRegressor, Pool\n",
    "\n",
    "from  itertools import combinations\n",
    "\n",
    "from sklearn.linear_model import LinearRegression, Ridge, LassoCV\n",
    "from sklearn.metrics import mean_absolute_error, mean_squared_error,r2_score\n",
    "\n",
    "import lightgbm as lgb\n",
    "\n",
    "from sklearn.svm import SVR\n",
    "\n",
    "%matplotlib inline\n",
    "import matplotlib.pyplot as plt\n",
    "\n",
    "from IPython.display import display\n",
    "pd.options.display.max_columns = None\n",
    "\n",
    "import gc"
   ]
  },
  {
   "cell_type": "code",
   "execution_count": 34,
   "metadata": {
    "collapsed": true
   },
   "outputs": [],
   "source": [
    "#df_train = pd.read_csv('F:/DataScience/2_flatten_train_v2.csv', sep=',',encoding ='utf8',dtype={'fullVisitorId': 'str'})\n",
    "#df_test = pd.read_csv('F:/DataScience/2_flatten_test_v2.csv', sep=',',encoding ='utf8',dtype={'fullVisitorId': 'str'})"
   ]
  },
  {
   "cell_type": "code",
   "execution_count": null,
   "metadata": {
    "collapsed": true
   },
   "outputs": [],
   "source": [
    "\n"
   ]
  },
  {
   "cell_type": "code",
   "execution_count": null,
   "metadata": {
    "collapsed": true
   },
   "outputs": [],
   "source": []
  },
  {
   "cell_type": "markdown",
   "metadata": {},
   "source": [
    "## Session level"
   ]
  },
  {
   "cell_type": "code",
   "execution_count": 2,
   "metadata": {
    "collapsed": true
   },
   "outputs": [],
   "source": [
    "all_data = pd.read_pickle('Prepared_session_data')"
   ]
  },
  {
   "cell_type": "code",
   "execution_count": 3,
   "metadata": {},
   "outputs": [
    {
     "name": "stdout",
     "output_type": "stream",
     "text": [
      "<class 'pandas.core.frame.DataFrame'>\n",
      "Int64Index: 2109926 entries, 683687 to 988316\n",
      "Data columns (total 61 columns):\n",
      "channelGrouping                                 2109926 non-null object\n",
      "customDimensions                                2109926 non-null object\n",
      "date                                            2109926 non-null int64\n",
      "fullVisitorId                                   2109926 non-null object\n",
      "visitId                                         2109926 non-null int64\n",
      "visitNumber                                     2109926 non-null int64\n",
      "device.browser                                  2109926 non-null object\n",
      "device.operatingSystem                          2109926 non-null object\n",
      "geoNetwork.city                                 2109926 non-null object\n",
      "geoNetwork.continent                            2109926 non-null object\n",
      "geoNetwork.country                              2109926 non-null object\n",
      "geoNetwork.metro                                2109926 non-null object\n",
      "geoNetwork.networkDomain                        2109926 non-null object\n",
      "geoNetwork.region                               2109926 non-null object\n",
      "geoNetwork.subContinent                         2109926 non-null object\n",
      "totals.transactionRevenue                       2109926 non-null float64\n",
      "trafficSource.adContent                         2109926 non-null object\n",
      "trafficSource.adwordsClickInfo.adNetworkType    2109926 non-null object\n",
      "trafficSource.adwordsClickInfo.gclId            2109926 non-null object\n",
      "trafficSource.adwordsClickInfo.isVideoAd        2109926 non-null object\n",
      "trafficSource.adwordsClickInfo.page             2109926 non-null float64\n",
      "trafficSource.adwordsClickInfo.slot             2109926 non-null object\n",
      "trafficSource.isTrueDirect                      2109926 non-null object\n",
      "trafficSource.keyword                           2109926 non-null object\n",
      "trafficSource.medium                            2109926 non-null object\n",
      "trafficSource.source                            2109926 non-null object\n",
      "part                                            2109926 non-null object\n",
      "_month                                          2109926 non-null int64\n",
      "_day                                            2109926 non-null int64\n",
      "_weekday                                        2109926 non-null int64\n",
      "_hour                                           2109926 non-null int64\n",
      "_year                                           2109926 non-null int64\n",
      "isMobile                                        2109926 non-null bool\n",
      "_adContentGMC                                   2109926 non-null uint8\n",
      "_withCampaign                                   2109926 non-null uint8\n",
      "_refPath                                        2109926 non-null uint8\n",
      "_meanHitsPD                                     2109926 non-null float64\n",
      "_meanHitsPM                                     2109926 non-null float64\n",
      "_sumHitsPD                                      2109926 non-null int64\n",
      "_sumHitsPM                                      2109926 non-null int64\n",
      "_meanPagePD                                     2109926 non-null float64\n",
      "_meanPagePM                                     2109926 non-null float64\n",
      "_sumPagePD                                      2109926 non-null float64\n",
      "_sumPagePM                                      2109926 non-null float64\n",
      "_meanTosPD                                      2109926 non-null float64\n",
      "_meanTosPM                                      2109926 non-null float64\n",
      "_sumTosPD                                       2109926 non-null float64\n",
      "_sumTosPM                                       2109926 non-null float64\n",
      "_countNvisPD                                    2109926 non-null int64\n",
      "_countNvisPM                                    2109926 non-null int64\n",
      "_sumNvisPD                                      2109926 non-null float64\n",
      "_sumNvisPM                                      2109926 non-null float64\n",
      "_ratio_pageviews                                2109926 non-null float64\n",
      "_userMean_totals.timeOnSite                     2109926 non-null float64\n",
      "_userMean_totals.pageviews                      2109926 non-null float64\n",
      "_userMean_totals.hits                           2109926 non-null float64\n",
      "_userMean_totals.sessionQualityDim              2109926 non-null float64\n",
      "_userMax_totals.timeOnSite                      2109926 non-null float64\n",
      "_userMax_visitNumber                            2109926 non-null int64\n",
      "_next_session_1                                 2109926 non-null int64\n",
      "_next_session_2                                 2109926 non-null int64\n",
      "dtypes: bool(1), float64(20), int64(15), object(22), uint8(3)\n",
      "memory usage: 941.7+ MB\n"
     ]
    }
   ],
   "source": [
    "all_data.info(null_counts=True)"
   ]
  },
  {
   "cell_type": "code",
   "execution_count": 4,
   "metadata": {
    "collapsed": true
   },
   "outputs": [],
   "source": [
    "drop_cols = ['date','fullVisitorId', 'totals.transactionRevenue', 'visitId', 'part']"
   ]
  },
  {
   "cell_type": "code",
   "execution_count": 5,
   "metadata": {
    "collapsed": true
   },
   "outputs": [],
   "source": [
    "cat_cols = [col for col in all_data.columns \n",
    "           if col not in drop_cols and (all_data[col].dtype=='object' or all_data[col].dtype=='bool')\n",
    "           ]"
   ]
  },
  {
   "cell_type": "code",
   "execution_count": 6,
   "metadata": {},
   "outputs": [
    {
     "data": {
      "text/plain": [
       "['channelGrouping',\n",
       " 'customDimensions',\n",
       " 'device.browser',\n",
       " 'device.operatingSystem',\n",
       " 'geoNetwork.city',\n",
       " 'geoNetwork.continent',\n",
       " 'geoNetwork.country',\n",
       " 'geoNetwork.metro',\n",
       " 'geoNetwork.networkDomain',\n",
       " 'geoNetwork.region',\n",
       " 'geoNetwork.subContinent',\n",
       " 'trafficSource.adContent',\n",
       " 'trafficSource.adwordsClickInfo.adNetworkType',\n",
       " 'trafficSource.adwordsClickInfo.gclId',\n",
       " 'trafficSource.adwordsClickInfo.isVideoAd',\n",
       " 'trafficSource.adwordsClickInfo.slot',\n",
       " 'trafficSource.isTrueDirect',\n",
       " 'trafficSource.keyword',\n",
       " 'trafficSource.medium',\n",
       " 'trafficSource.source',\n",
       " 'isMobile']"
      ]
     },
     "execution_count": 6,
     "metadata": {},
     "output_type": "execute_result"
    }
   ],
   "source": [
    "cat_cols"
   ]
  },
  {
   "cell_type": "code",
   "execution_count": 40,
   "metadata": {
    "collapsed": true
   },
   "outputs": [],
   "source": [
    "# df_train['totals.transactionRevenue'].fillna(0,inplace=True)\n",
    "# df_test['totals.transactionRevenue'].fillna(0,inplace=True)"
   ]
  },
  {
   "cell_type": "code",
   "execution_count": 7,
   "metadata": {
    "collapsed": true
   },
   "outputs": [],
   "source": [
    "for f in cat_cols:\n",
    "    all_data[f], indexer = pd.factorize(all_data[f])\n",
    "    #df_test[f] = indexer.get_indexer(df_test[f])"
   ]
  },
  {
   "cell_type": "code",
   "execution_count": 8,
   "metadata": {},
   "outputs": [
    {
     "data": {
      "text/html": [
       "<div>\n",
       "<style scoped>\n",
       "    .dataframe tbody tr th:only-of-type {\n",
       "        vertical-align: middle;\n",
       "    }\n",
       "\n",
       "    .dataframe tbody tr th {\n",
       "        vertical-align: top;\n",
       "    }\n",
       "\n",
       "    .dataframe thead th {\n",
       "        text-align: right;\n",
       "    }\n",
       "</style>\n",
       "<table border=\"1\" class=\"dataframe\">\n",
       "  <thead>\n",
       "    <tr style=\"text-align: right;\">\n",
       "      <th></th>\n",
       "      <th>channelGrouping</th>\n",
       "      <th>customDimensions</th>\n",
       "      <th>date</th>\n",
       "      <th>fullVisitorId</th>\n",
       "      <th>visitId</th>\n",
       "      <th>visitNumber</th>\n",
       "      <th>device.browser</th>\n",
       "      <th>device.operatingSystem</th>\n",
       "      <th>geoNetwork.city</th>\n",
       "      <th>geoNetwork.continent</th>\n",
       "      <th>geoNetwork.country</th>\n",
       "      <th>geoNetwork.metro</th>\n",
       "      <th>geoNetwork.networkDomain</th>\n",
       "      <th>geoNetwork.region</th>\n",
       "      <th>geoNetwork.subContinent</th>\n",
       "      <th>totals.transactionRevenue</th>\n",
       "      <th>trafficSource.adContent</th>\n",
       "      <th>trafficSource.adwordsClickInfo.adNetworkType</th>\n",
       "      <th>trafficSource.adwordsClickInfo.gclId</th>\n",
       "      <th>trafficSource.adwordsClickInfo.isVideoAd</th>\n",
       "      <th>trafficSource.adwordsClickInfo.page</th>\n",
       "      <th>trafficSource.adwordsClickInfo.slot</th>\n",
       "      <th>trafficSource.isTrueDirect</th>\n",
       "      <th>trafficSource.keyword</th>\n",
       "      <th>trafficSource.medium</th>\n",
       "      <th>trafficSource.source</th>\n",
       "      <th>part</th>\n",
       "      <th>_month</th>\n",
       "      <th>_day</th>\n",
       "      <th>_weekday</th>\n",
       "      <th>_hour</th>\n",
       "      <th>_year</th>\n",
       "      <th>isMobile</th>\n",
       "      <th>_adContentGMC</th>\n",
       "      <th>_withCampaign</th>\n",
       "      <th>_refPath</th>\n",
       "      <th>_meanHitsPD</th>\n",
       "      <th>_meanHitsPM</th>\n",
       "      <th>_sumHitsPD</th>\n",
       "      <th>_sumHitsPM</th>\n",
       "      <th>_meanPagePD</th>\n",
       "      <th>_meanPagePM</th>\n",
       "      <th>_sumPagePD</th>\n",
       "      <th>_sumPagePM</th>\n",
       "      <th>_meanTosPD</th>\n",
       "      <th>_meanTosPM</th>\n",
       "      <th>_sumTosPD</th>\n",
       "      <th>_sumTosPM</th>\n",
       "      <th>_countNvisPD</th>\n",
       "      <th>_countNvisPM</th>\n",
       "      <th>_sumNvisPD</th>\n",
       "      <th>_sumNvisPM</th>\n",
       "      <th>_ratio_pageviews</th>\n",
       "      <th>_userMean_totals.timeOnSite</th>\n",
       "      <th>_userMean_totals.pageviews</th>\n",
       "      <th>_userMean_totals.hits</th>\n",
       "      <th>_userMean_totals.sessionQualityDim</th>\n",
       "      <th>_userMax_totals.timeOnSite</th>\n",
       "      <th>_userMax_visitNumber</th>\n",
       "      <th>_next_session_1</th>\n",
       "      <th>_next_session_2</th>\n",
       "    </tr>\n",
       "  </thead>\n",
       "  <tbody>\n",
       "    <tr>\n",
       "      <th>683687</th>\n",
       "      <td>0</td>\n",
       "      <td>0</td>\n",
       "      <td>20171128</td>\n",
       "      <td>0000000259678714014</td>\n",
       "      <td>1511912001</td>\n",
       "      <td>1</td>\n",
       "      <td>0</td>\n",
       "      <td>0</td>\n",
       "      <td>0</td>\n",
       "      <td>0</td>\n",
       "      <td>0</td>\n",
       "      <td>0</td>\n",
       "      <td>0</td>\n",
       "      <td>0</td>\n",
       "      <td>0</td>\n",
       "      <td>0.0</td>\n",
       "      <td>0</td>\n",
       "      <td>0</td>\n",
       "      <td>0</td>\n",
       "      <td>0</td>\n",
       "      <td>1.0</td>\n",
       "      <td>0</td>\n",
       "      <td>0</td>\n",
       "      <td>0</td>\n",
       "      <td>0</td>\n",
       "      <td>0</td>\n",
       "      <td>train</td>\n",
       "      <td>11</td>\n",
       "      <td>28</td>\n",
       "      <td>1</td>\n",
       "      <td>23</td>\n",
       "      <td>23</td>\n",
       "      <td>0</td>\n",
       "      <td>0</td>\n",
       "      <td>0</td>\n",
       "      <td>0</td>\n",
       "      <td>4.554150</td>\n",
       "      <td>4.086913</td>\n",
       "      <td>305374</td>\n",
       "      <td>845987</td>\n",
       "      <td>3.773720</td>\n",
       "      <td>3.443210</td>\n",
       "      <td>253043.0</td>\n",
       "      <td>712741.0</td>\n",
       "      <td>171.289095</td>\n",
       "      <td>147.007000</td>\n",
       "      <td>11485619.0</td>\n",
       "      <td>30430302.0</td>\n",
       "      <td>67054</td>\n",
       "      <td>206999</td>\n",
       "      <td>50856.0</td>\n",
       "      <td>163607.0</td>\n",
       "      <td>0.000012</td>\n",
       "      <td>64.5</td>\n",
       "      <td>6.5</td>\n",
       "      <td>9.5</td>\n",
       "      <td>6.0</td>\n",
       "      <td>72.0</td>\n",
       "      <td>2</td>\n",
       "      <td>0</td>\n",
       "      <td>-1</td>\n",
       "    </tr>\n",
       "    <tr>\n",
       "      <th>680923</th>\n",
       "      <td>0</td>\n",
       "      <td>0</td>\n",
       "      <td>20171128</td>\n",
       "      <td>0000000259678714014</td>\n",
       "      <td>1511914780</td>\n",
       "      <td>2</td>\n",
       "      <td>0</td>\n",
       "      <td>0</td>\n",
       "      <td>0</td>\n",
       "      <td>0</td>\n",
       "      <td>0</td>\n",
       "      <td>0</td>\n",
       "      <td>1</td>\n",
       "      <td>0</td>\n",
       "      <td>0</td>\n",
       "      <td>0.0</td>\n",
       "      <td>0</td>\n",
       "      <td>0</td>\n",
       "      <td>0</td>\n",
       "      <td>0</td>\n",
       "      <td>1.0</td>\n",
       "      <td>0</td>\n",
       "      <td>1</td>\n",
       "      <td>0</td>\n",
       "      <td>0</td>\n",
       "      <td>0</td>\n",
       "      <td>train</td>\n",
       "      <td>11</td>\n",
       "      <td>29</td>\n",
       "      <td>2</td>\n",
       "      <td>0</td>\n",
       "      <td>0</td>\n",
       "      <td>0</td>\n",
       "      <td>0</td>\n",
       "      <td>0</td>\n",
       "      <td>0</td>\n",
       "      <td>4.561762</td>\n",
       "      <td>4.086913</td>\n",
       "      <td>272953</td>\n",
       "      <td>845987</td>\n",
       "      <td>3.784908</td>\n",
       "      <td>3.443210</td>\n",
       "      <td>226470.0</td>\n",
       "      <td>712741.0</td>\n",
       "      <td>169.218250</td>\n",
       "      <td>147.007000</td>\n",
       "      <td>10125174.0</td>\n",
       "      <td>30430302.0</td>\n",
       "      <td>59835</td>\n",
       "      <td>206999</td>\n",
       "      <td>45579.0</td>\n",
       "      <td>163607.0</td>\n",
       "      <td>0.000044</td>\n",
       "      <td>64.5</td>\n",
       "      <td>6.5</td>\n",
       "      <td>9.5</td>\n",
       "      <td>6.0</td>\n",
       "      <td>72.0</td>\n",
       "      <td>2</td>\n",
       "      <td>0</td>\n",
       "      <td>0</td>\n",
       "    </tr>\n",
       "    <tr>\n",
       "      <th>379656</th>\n",
       "      <td>0</td>\n",
       "      <td>1</td>\n",
       "      <td>20161020</td>\n",
       "      <td>0000010278554503158</td>\n",
       "      <td>1477029466</td>\n",
       "      <td>1</td>\n",
       "      <td>0</td>\n",
       "      <td>0</td>\n",
       "      <td>1</td>\n",
       "      <td>1</td>\n",
       "      <td>1</td>\n",
       "      <td>1</td>\n",
       "      <td>2</td>\n",
       "      <td>1</td>\n",
       "      <td>1</td>\n",
       "      <td>0.0</td>\n",
       "      <td>0</td>\n",
       "      <td>0</td>\n",
       "      <td>0</td>\n",
       "      <td>0</td>\n",
       "      <td>1.0</td>\n",
       "      <td>0</td>\n",
       "      <td>0</td>\n",
       "      <td>0</td>\n",
       "      <td>0</td>\n",
       "      <td>0</td>\n",
       "      <td>train</td>\n",
       "      <td>10</td>\n",
       "      <td>21</td>\n",
       "      <td>4</td>\n",
       "      <td>5</td>\n",
       "      <td>5</td>\n",
       "      <td>0</td>\n",
       "      <td>0</td>\n",
       "      <td>0</td>\n",
       "      <td>0</td>\n",
       "      <td>4.509202</td>\n",
       "      <td>4.311058</td>\n",
       "      <td>308222</td>\n",
       "      <td>1018246</td>\n",
       "      <td>3.746467</td>\n",
       "      <td>3.573131</td>\n",
       "      <td>256086.0</td>\n",
       "      <td>843952.0</td>\n",
       "      <td>168.480425</td>\n",
       "      <td>163.215674</td>\n",
       "      <td>11516311.0</td>\n",
       "      <td>38550563.0</td>\n",
       "      <td>68354</td>\n",
       "      <td>236194</td>\n",
       "      <td>51083.0</td>\n",
       "      <td>182886.0</td>\n",
       "      <td>0.000031</td>\n",
       "      <td>194.0</td>\n",
       "      <td>8.0</td>\n",
       "      <td>11.0</td>\n",
       "      <td>1.0</td>\n",
       "      <td>194.0</td>\n",
       "      <td>1</td>\n",
       "      <td>0</td>\n",
       "      <td>0</td>\n",
       "    </tr>\n",
       "    <tr>\n",
       "      <th>1972778</th>\n",
       "      <td>0</td>\n",
       "      <td>0</td>\n",
       "      <td>20180813</td>\n",
       "      <td>0000018966949534117</td>\n",
       "      <td>1534216634</td>\n",
       "      <td>1</td>\n",
       "      <td>0</td>\n",
       "      <td>0</td>\n",
       "      <td>2</td>\n",
       "      <td>0</td>\n",
       "      <td>0</td>\n",
       "      <td>0</td>\n",
       "      <td>0</td>\n",
       "      <td>0</td>\n",
       "      <td>0</td>\n",
       "      <td>0.0</td>\n",
       "      <td>1</td>\n",
       "      <td>0</td>\n",
       "      <td>0</td>\n",
       "      <td>0</td>\n",
       "      <td>1.0</td>\n",
       "      <td>0</td>\n",
       "      <td>0</td>\n",
       "      <td>0</td>\n",
       "      <td>0</td>\n",
       "      <td>0</td>\n",
       "      <td>test</td>\n",
       "      <td>8</td>\n",
       "      <td>14</td>\n",
       "      <td>1</td>\n",
       "      <td>3</td>\n",
       "      <td>3</td>\n",
       "      <td>0</td>\n",
       "      <td>0</td>\n",
       "      <td>0</td>\n",
       "      <td>0</td>\n",
       "      <td>4.608583</td>\n",
       "      <td>5.281894</td>\n",
       "      <td>320573</td>\n",
       "      <td>1203432</td>\n",
       "      <td>3.812823</td>\n",
       "      <td>4.267169</td>\n",
       "      <td>265220.0</td>\n",
       "      <td>972236.0</td>\n",
       "      <td>171.283381</td>\n",
       "      <td>183.019360</td>\n",
       "      <td>11914472.0</td>\n",
       "      <td>41699314.0</td>\n",
       "      <td>69560</td>\n",
       "      <td>227841</td>\n",
       "      <td>51844.0</td>\n",
       "      <td>171487.0</td>\n",
       "      <td>0.000026</td>\n",
       "      <td>131.0</td>\n",
       "      <td>7.0</td>\n",
       "      <td>7.0</td>\n",
       "      <td>1.0</td>\n",
       "      <td>131.0</td>\n",
       "      <td>1</td>\n",
       "      <td>0</td>\n",
       "      <td>0</td>\n",
       "    </tr>\n",
       "    <tr>\n",
       "      <th>168926</th>\n",
       "      <td>0</td>\n",
       "      <td>1</td>\n",
       "      <td>20161130</td>\n",
       "      <td>0000020424342248747</td>\n",
       "      <td>1480578901</td>\n",
       "      <td>1</td>\n",
       "      <td>0</td>\n",
       "      <td>1</td>\n",
       "      <td>3</td>\n",
       "      <td>0</td>\n",
       "      <td>2</td>\n",
       "      <td>2</td>\n",
       "      <td>3</td>\n",
       "      <td>2</td>\n",
       "      <td>2</td>\n",
       "      <td>0.0</td>\n",
       "      <td>0</td>\n",
       "      <td>0</td>\n",
       "      <td>0</td>\n",
       "      <td>0</td>\n",
       "      <td>1.0</td>\n",
       "      <td>0</td>\n",
       "      <td>0</td>\n",
       "      <td>1</td>\n",
       "      <td>1</td>\n",
       "      <td>1</td>\n",
       "      <td>train</td>\n",
       "      <td>12</td>\n",
       "      <td>1</td>\n",
       "      <td>3</td>\n",
       "      <td>7</td>\n",
       "      <td>7</td>\n",
       "      <td>0</td>\n",
       "      <td>0</td>\n",
       "      <td>0</td>\n",
       "      <td>0</td>\n",
       "      <td>4.588103</td>\n",
       "      <td>4.403002</td>\n",
       "      <td>305430</td>\n",
       "      <td>782506</td>\n",
       "      <td>3.798558</td>\n",
       "      <td>3.700407</td>\n",
       "      <td>252870.0</td>\n",
       "      <td>657640.0</td>\n",
       "      <td>167.421992</td>\n",
       "      <td>160.911091</td>\n",
       "      <td>11145282.0</td>\n",
       "      <td>28597280.0</td>\n",
       "      <td>66570</td>\n",
       "      <td>177721</td>\n",
       "      <td>50632.0</td>\n",
       "      <td>132475.0</td>\n",
       "      <td>0.000051</td>\n",
       "      <td>297.0</td>\n",
       "      <td>13.0</td>\n",
       "      <td>17.0</td>\n",
       "      <td>1.0</td>\n",
       "      <td>297.0</td>\n",
       "      <td>1</td>\n",
       "      <td>0</td>\n",
       "      <td>0</td>\n",
       "    </tr>\n",
       "  </tbody>\n",
       "</table>\n",
       "</div>"
      ],
      "text/plain": [
       "         channelGrouping  customDimensions      date        fullVisitorId  \\\n",
       "683687                 0                 0  20171128  0000000259678714014   \n",
       "680923                 0                 0  20171128  0000000259678714014   \n",
       "379656                 0                 1  20161020  0000010278554503158   \n",
       "1972778                0                 0  20180813  0000018966949534117   \n",
       "168926                 0                 1  20161130  0000020424342248747   \n",
       "\n",
       "            visitId  visitNumber  device.browser  device.operatingSystem  \\\n",
       "683687   1511912001            1               0                       0   \n",
       "680923   1511914780            2               0                       0   \n",
       "379656   1477029466            1               0                       0   \n",
       "1972778  1534216634            1               0                       0   \n",
       "168926   1480578901            1               0                       1   \n",
       "\n",
       "         geoNetwork.city  geoNetwork.continent  geoNetwork.country  \\\n",
       "683687                 0                     0                   0   \n",
       "680923                 0                     0                   0   \n",
       "379656                 1                     1                   1   \n",
       "1972778                2                     0                   0   \n",
       "168926                 3                     0                   2   \n",
       "\n",
       "         geoNetwork.metro  geoNetwork.networkDomain  geoNetwork.region  \\\n",
       "683687                  0                         0                  0   \n",
       "680923                  0                         1                  0   \n",
       "379656                  1                         2                  1   \n",
       "1972778                 0                         0                  0   \n",
       "168926                  2                         3                  2   \n",
       "\n",
       "         geoNetwork.subContinent  totals.transactionRevenue  \\\n",
       "683687                         0                        0.0   \n",
       "680923                         0                        0.0   \n",
       "379656                         1                        0.0   \n",
       "1972778                        0                        0.0   \n",
       "168926                         2                        0.0   \n",
       "\n",
       "         trafficSource.adContent  \\\n",
       "683687                         0   \n",
       "680923                         0   \n",
       "379656                         0   \n",
       "1972778                        1   \n",
       "168926                         0   \n",
       "\n",
       "         trafficSource.adwordsClickInfo.adNetworkType  \\\n",
       "683687                                              0   \n",
       "680923                                              0   \n",
       "379656                                              0   \n",
       "1972778                                             0   \n",
       "168926                                              0   \n",
       "\n",
       "         trafficSource.adwordsClickInfo.gclId  \\\n",
       "683687                                      0   \n",
       "680923                                      0   \n",
       "379656                                      0   \n",
       "1972778                                     0   \n",
       "168926                                      0   \n",
       "\n",
       "         trafficSource.adwordsClickInfo.isVideoAd  \\\n",
       "683687                                          0   \n",
       "680923                                          0   \n",
       "379656                                          0   \n",
       "1972778                                         0   \n",
       "168926                                          0   \n",
       "\n",
       "         trafficSource.adwordsClickInfo.page  \\\n",
       "683687                                   1.0   \n",
       "680923                                   1.0   \n",
       "379656                                   1.0   \n",
       "1972778                                  1.0   \n",
       "168926                                   1.0   \n",
       "\n",
       "         trafficSource.adwordsClickInfo.slot  trafficSource.isTrueDirect  \\\n",
       "683687                                     0                           0   \n",
       "680923                                     0                           1   \n",
       "379656                                     0                           0   \n",
       "1972778                                    0                           0   \n",
       "168926                                     0                           0   \n",
       "\n",
       "         trafficSource.keyword  trafficSource.medium  trafficSource.source  \\\n",
       "683687                       0                     0                     0   \n",
       "680923                       0                     0                     0   \n",
       "379656                       0                     0                     0   \n",
       "1972778                      0                     0                     0   \n",
       "168926                       1                     1                     1   \n",
       "\n",
       "          part  _month  _day  _weekday  _hour  _year  isMobile  _adContentGMC  \\\n",
       "683687   train      11    28         1     23     23         0              0   \n",
       "680923   train      11    29         2      0      0         0              0   \n",
       "379656   train      10    21         4      5      5         0              0   \n",
       "1972778   test       8    14         1      3      3         0              0   \n",
       "168926   train      12     1         3      7      7         0              0   \n",
       "\n",
       "         _withCampaign  _refPath  _meanHitsPD  _meanHitsPM  _sumHitsPD  \\\n",
       "683687               0         0     4.554150     4.086913      305374   \n",
       "680923               0         0     4.561762     4.086913      272953   \n",
       "379656               0         0     4.509202     4.311058      308222   \n",
       "1972778              0         0     4.608583     5.281894      320573   \n",
       "168926               0         0     4.588103     4.403002      305430   \n",
       "\n",
       "         _sumHitsPM  _meanPagePD  _meanPagePM  _sumPagePD  _sumPagePM  \\\n",
       "683687       845987     3.773720     3.443210    253043.0    712741.0   \n",
       "680923       845987     3.784908     3.443210    226470.0    712741.0   \n",
       "379656      1018246     3.746467     3.573131    256086.0    843952.0   \n",
       "1972778     1203432     3.812823     4.267169    265220.0    972236.0   \n",
       "168926       782506     3.798558     3.700407    252870.0    657640.0   \n",
       "\n",
       "         _meanTosPD  _meanTosPM   _sumTosPD   _sumTosPM  _countNvisPD  \\\n",
       "683687   171.289095  147.007000  11485619.0  30430302.0         67054   \n",
       "680923   169.218250  147.007000  10125174.0  30430302.0         59835   \n",
       "379656   168.480425  163.215674  11516311.0  38550563.0         68354   \n",
       "1972778  171.283381  183.019360  11914472.0  41699314.0         69560   \n",
       "168926   167.421992  160.911091  11145282.0  28597280.0         66570   \n",
       "\n",
       "         _countNvisPM  _sumNvisPD  _sumNvisPM  _ratio_pageviews  \\\n",
       "683687         206999     50856.0    163607.0          0.000012   \n",
       "680923         206999     45579.0    163607.0          0.000044   \n",
       "379656         236194     51083.0    182886.0          0.000031   \n",
       "1972778        227841     51844.0    171487.0          0.000026   \n",
       "168926         177721     50632.0    132475.0          0.000051   \n",
       "\n",
       "         _userMean_totals.timeOnSite  _userMean_totals.pageviews  \\\n",
       "683687                          64.5                         6.5   \n",
       "680923                          64.5                         6.5   \n",
       "379656                         194.0                         8.0   \n",
       "1972778                        131.0                         7.0   \n",
       "168926                         297.0                        13.0   \n",
       "\n",
       "         _userMean_totals.hits  _userMean_totals.sessionQualityDim  \\\n",
       "683687                     9.5                                 6.0   \n",
       "680923                     9.5                                 6.0   \n",
       "379656                    11.0                                 1.0   \n",
       "1972778                    7.0                                 1.0   \n",
       "168926                    17.0                                 1.0   \n",
       "\n",
       "         _userMax_totals.timeOnSite  _userMax_visitNumber  _next_session_1  \\\n",
       "683687                         72.0                     2                0   \n",
       "680923                         72.0                     2                0   \n",
       "379656                        194.0                     1                0   \n",
       "1972778                       131.0                     1                0   \n",
       "168926                        297.0                     1                0   \n",
       "\n",
       "         _next_session_2  \n",
       "683687                -1  \n",
       "680923                 0  \n",
       "379656                 0  \n",
       "1972778                0  \n",
       "168926                 0  "
      ]
     },
     "execution_count": 8,
     "metadata": {},
     "output_type": "execute_result"
    }
   ],
   "source": [
    "all_data.head()"
   ]
  },
  {
   "cell_type": "code",
   "execution_count": 43,
   "metadata": {
    "collapsed": true
   },
   "outputs": [],
   "source": [
    "# for col in cat_cols:\n",
    "#     print(col)\n",
    "#     lbl = LabelEncoder()\n",
    "#     lbl.fit(list(df_train[col].values.astype('str')) + list(df_test[col].values.astype('str')))\n",
    "#     df_train[col] = lbl.transform(list(df_train[col].values.astype('str')))\n",
    "#     df_test[col] = lbl.transform(list(df_test[col].values.astype('str')))\n"
   ]
  },
  {
   "cell_type": "code",
   "execution_count": 29,
   "metadata": {
    "collapsed": true
   },
   "outputs": [],
   "source": [
    "df_train = all_data[all_data['part'] == 'train']\n",
    "df_test = all_data[all_data['part'] == 'test']"
   ]
  },
  {
   "cell_type": "code",
   "execution_count": 30,
   "metadata": {},
   "outputs": [
    {
     "name": "stdout",
     "output_type": "stream",
     "text": [
      "(1708337, 61)\n",
      "(401589, 61)\n"
     ]
    }
   ],
   "source": [
    "print(df_train.shape)\n",
    "print(df_test.shape)"
   ]
  },
  {
   "cell_type": "code",
   "execution_count": null,
   "metadata": {
    "collapsed": true
   },
   "outputs": [],
   "source": []
  },
  {
   "cell_type": "code",
   "execution_count": 31,
   "metadata": {
    "collapsed": true
   },
   "outputs": [],
   "source": [
    "def get_folds(df=None, n_splits=5):\n",
    "    \"\"\"Returns dataframe indices corresponding to Visitors Group KFold\"\"\"\n",
    "    # Get sorted unique visitors\n",
    "    unique_vis = np.array(sorted(df['fullVisitorId'].unique()))\n",
    "\n",
    "    # Get folds\n",
    "    folds = GroupKFold(n_splits=n_splits)\n",
    "    fold_ids = []\n",
    "    ids = np.arange(df.shape[0])\n",
    "    for trn_vis, val_vis in folds.split(X=unique_vis, y=unique_vis, groups=unique_vis):\n",
    "        fold_ids.append(\n",
    "            [\n",
    "                ids[df['fullVisitorId'].isin(unique_vis[trn_vis])],\n",
    "                ids[df['fullVisitorId'].isin(unique_vis[val_vis])]\n",
    "            ]\n",
    "        )\n",
    "\n",
    "    return fold_ids"
   ]
  },
  {
   "cell_type": "code",
   "execution_count": 32,
   "metadata": {},
   "outputs": [
    {
     "name": "stdout",
     "output_type": "stream",
     "text": [
      "['channelGrouping', 'customDimensions', 'visitNumber', 'device.browser', 'device.operatingSystem', 'geoNetwork.city', 'geoNetwork.continent', 'geoNetwork.country', 'geoNetwork.metro', 'geoNetwork.networkDomain', 'geoNetwork.region', 'geoNetwork.subContinent', 'trafficSource.adContent', 'trafficSource.adwordsClickInfo.adNetworkType', 'trafficSource.adwordsClickInfo.gclId', 'trafficSource.adwordsClickInfo.isVideoAd', 'trafficSource.adwordsClickInfo.page', 'trafficSource.adwordsClickInfo.slot', 'trafficSource.isTrueDirect', 'trafficSource.keyword', 'trafficSource.medium', 'trafficSource.source', '_month', '_day', '_weekday', '_hour', '_year', 'isMobile', '_adContentGMC', '_withCampaign', '_refPath', '_meanHitsPD', '_meanHitsPM', '_sumHitsPD', '_sumHitsPM', '_meanPagePD', '_meanPagePM', '_sumPagePD', '_sumPagePM', '_meanTosPD', '_meanTosPM', '_sumTosPD', '_sumTosPM', '_countNvisPD', '_countNvisPM', '_sumNvisPD', '_sumNvisPM', '_ratio_pageviews', '_userMean_totals.timeOnSite', '_userMean_totals.pageviews', '_userMean_totals.hits', '_userMean_totals.sessionQualityDim', '_userMax_totals.timeOnSite', '_userMax_visitNumber', '_next_session_1', '_next_session_2']\n",
      "Training until validation scores don't improve for 50 rounds.\n",
      "[100]\tvalid_0's rmse: 1.53397\n",
      "[200]\tvalid_0's rmse: 1.51583\n",
      "[300]\tvalid_0's rmse: 1.51066\n",
      "[400]\tvalid_0's rmse: 1.50702\n",
      "[500]\tvalid_0's rmse: 1.50438\n",
      "[600]\tvalid_0's rmse: 1.50286\n",
      "[700]\tvalid_0's rmse: 1.5014\n",
      "[800]\tvalid_0's rmse: 1.50099\n",
      "[900]\tvalid_0's rmse: 1.50062\n",
      "[1000]\tvalid_0's rmse: 1.50032\n",
      "Did not meet early stopping. Best iteration is:\n",
      "[967]\tvalid_0's rmse: 1.50026\n",
      "Training until validation scores don't improve for 50 rounds.\n",
      "[100]\tvalid_0's rmse: 1.51418\n",
      "[200]\tvalid_0's rmse: 1.49862\n",
      "[300]\tvalid_0's rmse: 1.49374\n",
      "[400]\tvalid_0's rmse: 1.4906\n",
      "[500]\tvalid_0's rmse: 1.48851\n",
      "[600]\tvalid_0's rmse: 1.48734\n",
      "[700]\tvalid_0's rmse: 1.48593\n",
      "[800]\tvalid_0's rmse: 1.4851\n",
      "[900]\tvalid_0's rmse: 1.48435\n",
      "[1000]\tvalid_0's rmse: 1.48351\n",
      "Did not meet early stopping. Best iteration is:\n",
      "[1000]\tvalid_0's rmse: 1.48351\n",
      "Training until validation scores don't improve for 50 rounds.\n",
      "[100]\tvalid_0's rmse: 1.52386\n",
      "[200]\tvalid_0's rmse: 1.50841\n",
      "[300]\tvalid_0's rmse: 1.50309\n",
      "[400]\tvalid_0's rmse: 1.49977\n",
      "[500]\tvalid_0's rmse: 1.49805\n",
      "[600]\tvalid_0's rmse: 1.49587\n",
      "[700]\tvalid_0's rmse: 1.4944\n",
      "[800]\tvalid_0's rmse: 1.49312\n",
      "[900]\tvalid_0's rmse: 1.49247\n",
      "[1000]\tvalid_0's rmse: 1.49163\n",
      "Did not meet early stopping. Best iteration is:\n",
      "[999]\tvalid_0's rmse: 1.49161\n",
      "Training until validation scores don't improve for 50 rounds.\n",
      "[100]\tvalid_0's rmse: 1.49717\n",
      "[200]\tvalid_0's rmse: 1.48293\n",
      "[300]\tvalid_0's rmse: 1.4784\n",
      "[400]\tvalid_0's rmse: 1.47556\n",
      "[500]\tvalid_0's rmse: 1.47281\n",
      "[600]\tvalid_0's rmse: 1.47086\n",
      "[700]\tvalid_0's rmse: 1.46926\n",
      "[800]\tvalid_0's rmse: 1.46814\n",
      "[900]\tvalid_0's rmse: 1.46749\n",
      "Early stopping, best iteration is:\n",
      "[928]\tvalid_0's rmse: 1.46725\n",
      "Training until validation scores don't improve for 50 rounds.\n",
      "[100]\tvalid_0's rmse: 1.53584\n",
      "[200]\tvalid_0's rmse: 1.52002\n",
      "[300]\tvalid_0's rmse: 1.51439\n",
      "[400]\tvalid_0's rmse: 1.51042\n",
      "[500]\tvalid_0's rmse: 1.50762\n",
      "[600]\tvalid_0's rmse: 1.5055\n",
      "[700]\tvalid_0's rmse: 1.50405\n",
      "[800]\tvalid_0's rmse: 1.50343\n",
      "[900]\tvalid_0's rmse: 1.50251\n",
      "[1000]\tvalid_0's rmse: 1.50157\n",
      "Did not meet early stopping. Best iteration is:\n",
      "[995]\tvalid_0's rmse: 1.50155\n"
     ]
    },
    {
     "data": {
      "text/plain": [
       "1.4884552645346163"
      ]
     },
     "execution_count": 32,
     "metadata": {},
     "output_type": "execute_result"
    }
   ],
   "source": [
    "folds = get_folds(df=df_train, n_splits=5)\n",
    "\n",
    "train_features = [_f for _f in df_train.columns if _f not in drop_cols]\n",
    "print(train_features)\n",
    "y_reg = df_train['totals.transactionRevenue']\n",
    "y_time_valid = df_test['totals.transactionRevenue']\n",
    "\n",
    "importances = pd.DataFrame()\n",
    "oof_reg_preds = np.zeros(df_train.shape[0])\n",
    "sub_reg_preds = np.zeros(df_test.shape[0])\n",
    "for fold_, (trn_, val_) in enumerate(folds):\n",
    "    trn_x, trn_y = df_train[train_features].iloc[trn_], y_reg.iloc[trn_]\n",
    "    val_x, val_y = df_train[train_features].iloc[val_], y_reg.iloc[val_]\n",
    "    \n",
    "    reg = lgb.LGBMRegressor(\n",
    "        num_leaves=31,\n",
    "        learning_rate=0.03,\n",
    "        n_estimators=1000,\n",
    "        subsample=.9,\n",
    "        colsample_bytree=.9,\n",
    "        random_state=1\n",
    "    )\n",
    "    reg.fit(\n",
    "        trn_x, trn_y,\n",
    "        eval_set=[(val_x, val_y)],\n",
    "        early_stopping_rounds=50,\n",
    "        verbose=100,\n",
    "        eval_metric='rmse'#, categorical_feature=date_cols\n",
    "        \n",
    "    )\n",
    "    imp_df = pd.DataFrame()\n",
    "    imp_df['feature'] = train_features\n",
    "    imp_df['gain'] = reg.booster_.feature_importance(importance_type='gain')\n",
    "    \n",
    "    imp_df['fold'] = fold_ + 1\n",
    "    importances = pd.concat([importances, imp_df], axis=0, sort=False)\n",
    "    \n",
    "    oof_reg_preds[val_] = reg.predict(val_x, num_iteration=reg.best_iteration_)\n",
    "    oof_reg_preds[oof_reg_preds < 0] = 0\n",
    "    _preds = reg.predict(df_test[train_features], num_iteration=reg.best_iteration_)\n",
    "    _preds[_preds < 0] = 0\n",
    "    sub_reg_preds += np.expm1(_preds) / len(folds)\n",
    "    \n",
    "mean_squared_error(y_reg, oof_reg_preds) ** .5"
   ]
  },
  {
   "cell_type": "code",
   "execution_count": 35,
   "metadata": {},
   "outputs": [
    {
     "data": {
      "text/plain": [
       "1.6176531922031152"
      ]
     },
     "execution_count": 35,
     "metadata": {},
     "output_type": "execute_result"
    }
   ],
   "source": [
    "mean_squared_error((y_time_valid), np.log1p(sub_reg_preds)) ** .5"
   ]
  },
  {
   "cell_type": "code",
   "execution_count": null,
   "metadata": {
    "collapsed": true
   },
   "outputs": [],
   "source": [
    "\n"
   ]
  },
  {
   "cell_type": "code",
   "execution_count": 34,
   "metadata": {},
   "outputs": [
    {
     "data": {
      "text/plain": [
       "<matplotlib.axes._subplots.AxesSubplot at 0x1bb13e579e8>"
      ]
     },
     "execution_count": 34,
     "metadata": {},
     "output_type": "execute_result"
    },
    {
     "data": {
      "image/png": "[encoded data removed]",
      "text/plain": [
       "<matplotlib.figure.Figure at 0x1bb13e579b0>"
      ]
     },
     "metadata": {},
     "output_type": "display_data"
    }
   ],
   "source": [
    "import warnings\n",
    "warnings.simplefilter('ignore', FutureWarning)\n",
    "\n",
    "importances['gain_log'] = np.log1p(importances['gain'])\n",
    "mean_gain = importances[['gain', 'feature']].groupby('feature').mean()\n",
    "importances['mean_gain'] = importances['feature'].map(mean_gain['gain'])\n",
    "\n",
    "plt.figure(figsize=(8, 12))\n",
    "sns.barplot(x='gain_log', y='feature', data=importances.sort_values('mean_gain', ascending=False)[:200])"
   ]
  },
  {
   "cell_type": "code",
   "execution_count": 43,
   "metadata": {
    "collapsed": true
   },
   "outputs": [],
   "source": [
    "#SAve result \n",
    "sess_res_df = pd.DataFrame({\"fullVisitorId\":df_test['fullVisitorId']})\n",
    "\n",
    "sess_res_df[\"PredictedLogRevenue\"] = sub_reg_preds\n",
    "sess_res_df = sess_res_df.groupby(\"fullVisitorId\")[\"PredictedLogRevenue\"].sum().reset_index()\n",
    "sess_res_df.columns = [\"fullVisitorId\", \"PredictedLogRevenue\"]\n",
    "sess_res_df[\"PredictedLogRevenue\"] = np.log1p(sess_res_df[\"PredictedLogRevenue\"])\n",
    "#sess_res_df[\"PredictedLogRevenue\"][sess_res_df[\"PredictedLogRevenue\"]<0.1] = 0\n",
    "sess_res_df.to_csv(\"solutions/28_11_new_baseline.csv\", index=False)"
   ]
  },
  {
   "cell_type": "code",
   "execution_count": null,
   "metadata": {
    "collapsed": true
   },
   "outputs": [],
   "source": []
  },
  {
   "cell_type": "markdown",
   "metadata": {
    "collapsed": true
   },
   "source": [
    "## Visitor level\n"
   ]
  },
  {
   "cell_type": "code",
   "execution_count": 33,
   "metadata": {
    "collapsed": true
   },
   "outputs": [],
   "source": [
    "usr_cat_cols = cat_cols + ['_adContentGMC', '_withCampaign', '_refPath']\n",
    "usr_num_cols = set(df_train.columns).difference(set(usr_cat_cols + drop_cols + ['_day','_month','_hour','_weekday','_year']))"
   ]
  },
  {
   "cell_type": "code",
   "execution_count": 35,
   "metadata": {
    "collapsed": true
   },
   "outputs": [],
   "source": [
    "trn_usr_cat = df_train[usr_cat_cols + ['fullVisitorId']].groupby(['fullVisitorId']).median()\n",
    "trn_usr_num = df_train[list(usr_num_cols) + ['fullVisitorId']].groupby(['fullVisitorId']).mean()\n",
    "trn_full_usr = pd.concat([trn_usr_cat,trn_usr_num], axis=1)"
   ]
  },
  {
   "cell_type": "code",
   "execution_count": 36,
   "metadata": {
    "collapsed": true
   },
   "outputs": [],
   "source": [
    "test_usr_cat = df_test[usr_cat_cols + ['fullVisitorId']].groupby(['fullVisitorId']).median()\n",
    "test_usr_num = df_test[list(usr_num_cols) + ['fullVisitorId']].groupby(['fullVisitorId']).mean()\n",
    "test_full_usr = pd.concat([test_usr_cat,test_usr_num], axis=1)"
   ]
  },
  {
   "cell_type": "code",
   "execution_count": 40,
   "metadata": {
    "collapsed": true
   },
   "outputs": [],
   "source": [
    "trn_user_target = df_train[['fullVisitorId', 'totals.transactionRevenue']].groupby('fullVisitorId').sum()\n",
    "test_user_target = df_test[['fullVisitorId', 'totals.transactionRevenue']].groupby('fullVisitorId').sum()"
   ]
  },
  {
   "cell_type": "code",
   "execution_count": 54,
   "metadata": {
    "collapsed": true
   },
   "outputs": [],
   "source": [
    "# trn_full_usr['_usr_maxSessionRevenue'] = df_train[['fullVisitorId','date']].groupby('fullVisitorId').max()\n",
    "# trn_full_usr['_usr_meanMonthSessions'] = df_train[['fullVisitorId','_month','totals.transactionRevenue']]. \\\n",
    "# groupby(['fullVisitorId','_month']).count().reset_index().groupby('fullVisitorId')['totals.transactionRevenue'].mean()\n",
    "# test_full_usr['_usr_maxSessionRevenue'] = df_test[['fullVisitorId','totals.transactionRevenue']].groupby('fullVisitorId').max()\n",
    "# test_full_usr['_usr_meanMonthSessions'] = df_test[['fullVisitorId','_month','totals.transactionRevenue']]. \\\n",
    "# groupby(['fullVisitorId','_month']).count().reset_index().groupby('fullVisitorId')['totals.transactionRevenue'].mean()"
   ]
  },
  {
   "cell_type": "code",
   "execution_count": 38,
   "metadata": {
    "collapsed": true
   },
   "outputs": [],
   "source": [
    "all_data['real_date'] = pd.to_datetime(all_data['date'], format=\"%Y%m%d\")"
   ]
  },
  {
   "cell_type": "code",
   "execution_count": 62,
   "metadata": {},
   "outputs": [
    {
     "data": {
      "text/plain": [
       "Timestamp('2018-05-01 00:00:00')"
      ]
     },
     "execution_count": 62,
     "metadata": {},
     "output_type": "execute_result"
    }
   ],
   "source": [
    "all_data[all_data['part'] == 'test']['real_date'].min()"
   ]
  },
  {
   "cell_type": "code",
   "execution_count": 69,
   "metadata": {},
   "outputs": [
    {
     "data": {
      "text/plain": [
       "Timestamp('2018-08-01 00:00:00')"
      ]
     },
     "execution_count": 69,
     "metadata": {},
     "output_type": "execute_result"
    }
   ],
   "source": [
    "pd.Timestamp('2018-05-01 00:00:00') + pd.DateOffset(months=2)"
   ]
  },
  {
   "cell_type": "code",
   "execution_count": 45,
   "metadata": {
    "collapsed": true
   },
   "outputs": [],
   "source": []
  },
  {
   "cell_type": "code",
   "execution_count": 46,
   "metadata": {},
   "outputs": [
    {
     "data": {
      "text/plain": [
       "[(Timestamp('2016-08-01 00:00:00'), Timestamp('2016-10-01 00:00:00')),\n",
       " (Timestamp('2016-09-01 00:00:00'), Timestamp('2016-11-01 00:00:00')),\n",
       " (Timestamp('2016-10-01 00:00:00'), Timestamp('2016-12-01 00:00:00')),\n",
       " (Timestamp('2016-11-01 00:00:00'), Timestamp('2017-01-01 00:00:00')),\n",
       " (Timestamp('2016-12-01 00:00:00'), Timestamp('2017-02-01 00:00:00')),\n",
       " (Timestamp('2017-01-01 00:00:00'), Timestamp('2017-03-01 00:00:00')),\n",
       " (Timestamp('2017-02-01 00:00:00'), Timestamp('2017-04-01 00:00:00')),\n",
       " (Timestamp('2017-03-01 00:00:00'), Timestamp('2017-05-01 00:00:00')),\n",
       " (Timestamp('2017-04-01 00:00:00'), Timestamp('2017-06-01 00:00:00')),\n",
       " (Timestamp('2017-05-01 00:00:00'), Timestamp('2017-07-01 00:00:00')),\n",
       " (Timestamp('2017-06-01 00:00:00'), Timestamp('2017-08-01 00:00:00')),\n",
       " (Timestamp('2017-07-01 00:00:00'), Timestamp('2017-09-01 00:00:00')),\n",
       " (Timestamp('2017-08-01 00:00:00'), Timestamp('2017-10-01 00:00:00')),\n",
       " (Timestamp('2017-09-01 00:00:00'), Timestamp('2017-11-01 00:00:00')),\n",
       " (Timestamp('2017-10-01 00:00:00'), Timestamp('2017-12-01 00:00:00')),\n",
       " (Timestamp('2017-11-01 00:00:00'), Timestamp('2018-01-01 00:00:00')),\n",
       " (Timestamp('2017-12-01 00:00:00'), Timestamp('2018-02-01 00:00:00')),\n",
       " (Timestamp('2018-01-01 00:00:00'), Timestamp('2018-03-01 00:00:00')),\n",
       " (Timestamp('2018-02-01 00:00:00'), Timestamp('2018-04-01 00:00:00')),\n",
       " (Timestamp('2018-02-28 00:00:00'), Timestamp('2018-04-30 00:00:00'))]"
      ]
     },
     "execution_count": 46,
     "metadata": {},
     "output_type": "execute_result"
    }
   ],
   "source": [
    "list(periods(all_data[all_data['part'] == 'train']))"
   ]
  },
  {
   "cell_type": "code",
   "execution_count": null,
   "metadata": {
    "collapsed": true
   },
   "outputs": [],
   "source": []
  },
  {
   "cell_type": "code",
   "execution_count": null,
   "metadata": {
    "collapsed": true
   },
   "outputs": [],
   "source": []
  },
  {
   "cell_type": "code",
   "execution_count": 39,
   "metadata": {},
   "outputs": [
    {
     "name": "stdout",
     "output_type": "stream",
     "text": [
      "Training until validation scores don't improve for 50 rounds.\n",
      "[100]\tTRAIN's rmse: 1.97527\tVALID's rmse: 1.97749\n",
      "[200]\tTRAIN's rmse: 1.88499\tVALID's rmse: 1.96824\n",
      "[300]\tTRAIN's rmse: 1.8337\tVALID's rmse: 1.96477\n",
      "Early stopping, best iteration is:\n",
      "[341]\tTRAIN's rmse: 1.81405\tVALID's rmse: 1.96369\n",
      "Training until validation scores don't improve for 50 rounds.\n",
      "[100]\tTRAIN's rmse: 1.97173\tVALID's rmse: 2.03624\n",
      "[200]\tTRAIN's rmse: 1.88629\tVALID's rmse: 2.008\n",
      "Early stopping, best iteration is:\n",
      "[244]\tTRAIN's rmse: 1.86294\tVALID's rmse: 2.00351\n",
      "Training until validation scores don't improve for 50 rounds.\n",
      "[100]\tTRAIN's rmse: 1.98005\tVALID's rmse: 1.93628\n",
      "[200]\tTRAIN's rmse: 1.89375\tVALID's rmse: 1.91059\n",
      "[300]\tTRAIN's rmse: 1.84612\tVALID's rmse: 1.90816\n",
      "Early stopping, best iteration is:\n",
      "[336]\tTRAIN's rmse: 1.83196\tVALID's rmse: 1.90743\n",
      "Training until validation scores don't improve for 50 rounds.\n",
      "[100]\tTRAIN's rmse: 1.97791\tVALID's rmse: 1.95637\n",
      "[200]\tTRAIN's rmse: 1.89577\tVALID's rmse: 1.9502\n",
      "[300]\tTRAIN's rmse: 1.84941\tVALID's rmse: 1.94809\n",
      "[400]\tTRAIN's rmse: 1.81354\tVALID's rmse: 1.9479\n",
      "Early stopping, best iteration is:\n",
      "[359]\tTRAIN's rmse: 1.8272\tVALID's rmse: 1.94646\n",
      "Training until validation scores don't improve for 50 rounds.\n",
      "[100]\tTRAIN's rmse: 1.86752\tVALID's rmse: 2.45327\n",
      "[200]\tTRAIN's rmse: 1.78682\tVALID's rmse: 2.42168\n",
      "[300]\tTRAIN's rmse: 1.74022\tVALID's rmse: 2.41634\n",
      "[400]\tTRAIN's rmse: 1.70356\tVALID's rmse: 2.4072\n",
      "[500]\tTRAIN's rmse: 1.67106\tVALID's rmse: 2.40072\n",
      "Early stopping, best iteration is:\n",
      "[539]\tTRAIN's rmse: 1.65944\tVALID's rmse: 2.39802\n"
     ]
    },
    {
     "data": {
      "text/plain": [
       "2.0510215710136395"
      ]
     },
     "execution_count": 39,
     "metadata": {},
     "output_type": "execute_result"
    }
   ],
   "source": [
    "folds = get_folds(df=trn_full_usr[['geoNetwork.country']].reset_index(), n_splits=5)\n",
    "\n",
    "oof_preds = np.zeros(trn_full_usr.shape[0])\n",
    "sub_preds = np.zeros(test_full_usr.shape[0])\n",
    "vis_importances = pd.DataFrame()\n",
    "\n",
    "for fold_, (trn_, val_) in enumerate(folds):\n",
    "    trn_x, trn_y = trn_full_usr.iloc[trn_], trn_user_target['totals.transactionRevenue'].iloc[trn_]\n",
    "    val_x, val_y = trn_full_usr.iloc[val_], trn_user_target['totals.transactionRevenue'].iloc[val_]\n",
    "    \n",
    "    reg = lgb.LGBMRegressor(\n",
    "        num_leaves=31,\n",
    "        learning_rate=0.03,\n",
    "        n_estimators=1000,\n",
    "        subsample=.9,\n",
    "        colsample_bytree=.9,\n",
    "        random_state=1\n",
    "    )\n",
    "    reg.fit(\n",
    "        trn_x, trn_y,\n",
    "        eval_set=[(trn_x, trn_y), (val_x, val_y)],\n",
    "        eval_names=['TRAIN', 'VALID'],\n",
    "        early_stopping_rounds=50,\n",
    "        eval_metric='rmse',\n",
    "        verbose=100\n",
    "    )\n",
    "    \n",
    "    imp_df = pd.DataFrame()\n",
    "    imp_df['feature'] = trn_x.columns\n",
    "    imp_df['gain'] = reg.booster_.feature_importance(importance_type='gain')\n",
    "    \n",
    "    imp_df['fold'] = fold_ + 1\n",
    "    vis_importances = pd.concat([vis_importances, imp_df], axis=0, sort=False)\n",
    "    \n",
    "    oof_preds[val_] = reg.predict(val_x, num_iteration=reg.best_iteration_)\n",
    "    oof_preds[oof_preds < 0] = 0\n",
    "    \n",
    "    # Make sure features are in the same order\n",
    "    _preds = reg.predict(test_full_usr[trn_full_usr.columns], num_iteration=reg.best_iteration_)\n",
    "    _preds[_preds < 0] = 0\n",
    "    sub_preds += _preds / len(folds)\n",
    "    \n",
    "mean_squared_error(trn_user_target['totals.transactionRevenue'], oof_preds) ** .5"
   ]
  },
  {
   "cell_type": "code",
   "execution_count": 47,
   "metadata": {},
   "outputs": [
    {
     "data": {
      "text/plain": [
       "2.180962136271079"
      ]
     },
     "execution_count": 47,
     "metadata": {},
     "output_type": "execute_result"
    }
   ],
   "source": [
    "mean_squared_error(test_user_target['totals.transactionRevenue'], sub_preds) ** .5"
   ]
  },
  {
   "cell_type": "code",
   "execution_count": 43,
   "metadata": {},
   "outputs": [
    {
     "name": "stderr",
     "output_type": "stream",
     "text": [
      "C:\\ProgramData\\Anaconda3\\lib\\site-packages\\seaborn\\categorical.py:1428: FutureWarning:\n",
      "\n",
      "remove_na is deprecated and is a private function. Do not use.\n",
      "\n"
     ]
    },
    {
     "data": {
      "text/plain": [
       "<matplotlib.axes._subplots.AxesSubplot at 0x1fdb9e523c8>"
      ]
     },
     "execution_count": 43,
     "metadata": {},
     "output_type": "execute_result"
    },
    {
     "data": {
      "image/png": "[encoded data removed]",
      "text/plain": [
       "<matplotlib.figure.Figure at 0x1fdb9e52b38>"
      ]
     },
     "metadata": {},
     "output_type": "display_data"
    }
   ],
   "source": [
    "vis_importances['gain_log'] = np.log1p(vis_importances['gain'])\n",
    "mean_gain = vis_importances[['gain', 'feature']].groupby('feature').mean()\n",
    "vis_importances['mean_gain'] = vis_importances['feature'].map(mean_gain['gain'])\n",
    "\n",
    "plt.figure(figsize=(8, 25))\n",
    "sns.barplot(x='gain_log', y='feature', data=vis_importances.sort_values('mean_gain', ascending=False).iloc[:300])"
   ]
  },
  {
   "cell_type": "markdown",
   "metadata": {},
   "source": [
    "#### Saving to file\n"
   ]
  },
  {
   "cell_type": "code",
   "execution_count": 45,
   "metadata": {
    "collapsed": true
   },
   "outputs": [],
   "source": [
    "test_user_target['PredictedLogRevenue'] = sub_preds\n",
    "test_user_target[['PredictedLogRevenue']].to_csv('solutions/29_11_USER_baseline.csv', index=True)"
   ]
  },
  {
   "cell_type": "code",
   "execution_count": null,
   "metadata": {
    "collapsed": true
   },
   "outputs": [],
   "source": []
  }
 ],
 "metadata": {
  "kernelspec": {
   "display_name": "Python 3",
   "language": "python",
   "name": "python3"
  },
  "language_info": {
   "codemirror_mode": {
    "name": "ipython",
    "version": 3
   },
   "file_extension": ".py",
   "mimetype": "text/x-python",
   "name": "python",
   "nbconvert_exporter": "python",
   "pygments_lexer": "ipython3",
   "version": "3.7.1"
  }
 },
 "nbformat": 4,
 "nbformat_minor": 2
}
